{
 "cells": [
  {
   "cell_type": "code",
   "id": "initial_id",
   "metadata": {
    "collapsed": true,
    "ExecuteTime": {
     "end_time": "2024-11-22T15:12:22.757747Z",
     "start_time": "2024-11-22T15:12:09.842710Z"
    }
   },
   "source": [
    "import os\n",
    "import pandas as pd\n",
    "import numpy as np\n",
    "from PIL import Image\n",
    "import cv2\n",
    "import time\n",
    "import imageio\n",
    "import matplotlib.pyplot as plt\n",
    "import time\n",
    "import torch\n",
    "import torch.nn as nn\n",
    "import torch.nn.functional as F\n",
    "import torch.optim as optim\n",
    "from torch.optim import lr_scheduler\n",
    "from torch import Tensor\n",
    "from torch.utils.data import Dataset, DataLoader, random_split\n",
    "from torchvision.transforms import Resize, PILToTensor, ToPILImage, Compose, InterpolationMode\n",
    "from collections import OrderedDict\n"
   ],
   "outputs": [],
   "execution_count": 2
  },
  {
   "metadata": {
    "ExecuteTime": {
     "end_time": "2024-11-22T15:12:22.773173Z",
     "start_time": "2024-11-22T15:12:22.757747Z"
    }
   },
   "cell_type": "code",
   "source": [
    "\n",
    "device = torch.device(\"cpu\")\n",
    "device"
   ],
   "id": "e0a9ac82222659d3",
   "outputs": [
    {
     "data": {
      "text/plain": [
       "device(type='cuda')"
      ]
     },
     "execution_count": 3,
     "metadata": {},
     "output_type": "execute_result"
    }
   ],
   "execution_count": 3
  },
  {
   "metadata": {
    "ExecuteTime": {
     "end_time": "2024-11-22T15:12:38.169030Z",
     "start_time": "2024-11-22T15:12:30.814902Z"
    }
   },
   "cell_type": "code",
   "source": [
    "import segmentation_models_pytorch as smp\n",
    "\n",
    "model = smp.UnetPlusPlus(\n",
    "    encoder_name=\"resnet34\",        \n",
    "    encoder_weights=\"imagenet\",     \n",
    "    in_channels=3,                  \n",
    "    classes=3     \n",
    ")"
   ],
   "id": "ddd1070fd2c7ef4e",
   "outputs": [],
   "execution_count": 5
  },
  {
   "metadata": {
    "ExecuteTime": {
     "end_time": "2024-11-22T15:12:41.970572Z",
     "start_time": "2024-11-22T15:12:38.169030Z"
    }
   },
   "cell_type": "code",
   "source": [
    "from torchinfo import summary\n",
    "import segmentation_models_pytorch as smp\n",
    "\n",
    "\n",
    "# In thông tin chi tiết mô hình\n",
    "summary(\n",
    "    model,\n",
    "    input_size=(1, 3, 256, 256),  # Batch size = 1, RGB image, size 256x256\n",
    "    col_names=[\"input_size\", \"output_size\", \"num_params\", \"kernel_size\", \"mult_adds\"],\n",
    "    depth=3  # Hiển thị sâu đến cấp 3\n",
    ")\n"
   ],
   "id": "2a8711c266d6ccd3",
   "outputs": [
    {
     "data": {
      "text/plain": [
       "==========================================================================================================================================================================\n",
       "Layer (type:depth-idx)                        Input Shape               Output Shape              Param #                   Kernel Shape              Mult-Adds\n",
       "==========================================================================================================================================================================\n",
       "UnetPlusPlus                                  [1, 3, 256, 256]          [1, 3, 256, 256]          --                        --                        --\n",
       "├─ResNetEncoder: 1-1                          [1, 3, 256, 256]          [1, 3, 256, 256]          --                        --                        --\n",
       "│    └─Conv2d: 2-1                            [1, 3, 256, 256]          [1, 64, 128, 128]         9,408                     [7, 7]                    154,140,672\n",
       "│    └─BatchNorm2d: 2-2                       [1, 64, 128, 128]         [1, 64, 128, 128]         128                       --                        128\n",
       "│    └─ReLU: 2-3                              [1, 64, 128, 128]         [1, 64, 128, 128]         --                        --                        --\n",
       "│    └─MaxPool2d: 2-4                         [1, 64, 128, 128]         [1, 64, 64, 64]           --                        3                         --\n",
       "│    └─Sequential: 2-5                        [1, 64, 64, 64]           [1, 64, 64, 64]           --                        --                        --\n",
       "│    │    └─BasicBlock: 3-1                   [1, 64, 64, 64]           [1, 64, 64, 64]           73,984                    --                        301,990,144\n",
       "│    │    └─BasicBlock: 3-2                   [1, 64, 64, 64]           [1, 64, 64, 64]           73,984                    --                        301,990,144\n",
       "│    │    └─BasicBlock: 3-3                   [1, 64, 64, 64]           [1, 64, 64, 64]           73,984                    --                        301,990,144\n",
       "│    └─Sequential: 2-6                        [1, 64, 64, 64]           [1, 128, 32, 32]          --                        --                        --\n",
       "│    │    └─BasicBlock: 3-4                   [1, 64, 64, 64]           [1, 128, 32, 32]          230,144                   --                        234,881,792\n",
       "│    │    └─BasicBlock: 3-5                   [1, 128, 32, 32]          [1, 128, 32, 32]          295,424                   --                        301,990,400\n",
       "│    │    └─BasicBlock: 3-6                   [1, 128, 32, 32]          [1, 128, 32, 32]          295,424                   --                        301,990,400\n",
       "│    │    └─BasicBlock: 3-7                   [1, 128, 32, 32]          [1, 128, 32, 32]          295,424                   --                        301,990,400\n",
       "│    └─Sequential: 2-7                        [1, 128, 32, 32]          [1, 256, 16, 16]          --                        --                        --\n",
       "│    │    └─BasicBlock: 3-8                   [1, 128, 32, 32]          [1, 256, 16, 16]          919,040                   --                        234,882,560\n",
       "│    │    └─BasicBlock: 3-9                   [1, 256, 16, 16]          [1, 256, 16, 16]          1,180,672                 --                        301,990,912\n",
       "│    │    └─BasicBlock: 3-10                  [1, 256, 16, 16]          [1, 256, 16, 16]          1,180,672                 --                        301,990,912\n",
       "│    │    └─BasicBlock: 3-11                  [1, 256, 16, 16]          [1, 256, 16, 16]          1,180,672                 --                        301,990,912\n",
       "│    │    └─BasicBlock: 3-12                  [1, 256, 16, 16]          [1, 256, 16, 16]          1,180,672                 --                        301,990,912\n",
       "│    │    └─BasicBlock: 3-13                  [1, 256, 16, 16]          [1, 256, 16, 16]          1,180,672                 --                        301,990,912\n",
       "│    └─Sequential: 2-8                        [1, 256, 16, 16]          [1, 512, 8, 8]            --                        --                        --\n",
       "│    │    └─BasicBlock: 3-14                  [1, 256, 16, 16]          [1, 512, 8, 8]            3,673,088                 --                        234,884,096\n",
       "│    │    └─BasicBlock: 3-15                  [1, 512, 8, 8]            [1, 512, 8, 8]            4,720,640                 --                        301,991,936\n",
       "│    │    └─BasicBlock: 3-16                  [1, 512, 8, 8]            [1, 512, 8, 8]            4,720,640                 --                        301,991,936\n",
       "├─UnetPlusPlusDecoder: 1-2                    [1, 3, 256, 256]          [1, 16, 256, 256]         --                        --                        --\n",
       "│    └─ModuleDict: 2-9                        --                        --                        --                        --                        --\n",
       "│    │    └─DecoderBlock: 3-17                [1, 512, 8, 8]            [1, 256, 16, 16]          2,360,320                 --                        603,980,800\n",
       "│    │    └─DecoderBlock: 3-18                [1, 256, 16, 16]          [1, 128, 32, 32]          590,336                   --                        603,980,288\n",
       "│    │    └─DecoderBlock: 3-19                [1, 128, 32, 32]          [1, 64, 64, 64]           147,712                   --                        603,980,032\n",
       "│    │    └─DecoderBlock: 3-20                [1, 64, 64, 64]           [1, 64, 128, 128]         110,848                   --                        1,811,939,584\n",
       "│    │    └─DecoderBlock: 3-21                [1, 256, 16, 16]          [1, 128, 32, 32]          737,792                   --                        754,975,232\n",
       "│    │    └─DecoderBlock: 3-22                [1, 128, 32, 32]          [1, 64, 64, 64]           184,576                   --                        754,974,976\n",
       "│    │    └─DecoderBlock: 3-23                [1, 64, 64, 64]           [1, 64, 128, 128]         147,712                   --                        2,415,919,360\n",
       "│    │    └─DecoderBlock: 3-24                [1, 128, 32, 32]          [1, 64, 64, 64]           221,440                   --                        905,969,920\n",
       "│    │    └─DecoderBlock: 3-25                [1, 64, 64, 64]           [1, 64, 128, 128]         184,576                   --                        3,019,899,136\n",
       "│    │    └─DecoderBlock: 3-26                [1, 64, 64, 64]           [1, 32, 128, 128]         101,504                   --                        1,660,944,512\n",
       "│    │    └─DecoderBlock: 3-27                [1, 32, 128, 128]         [1, 16, 256, 256]         6,976                     --                        452,984,896\n",
       "├─SegmentationHead: 1-3                       [1, 16, 256, 256]         [1, 3, 256, 256]          --                        --                        --\n",
       "│    └─Conv2d: 2-10                           [1, 16, 256, 256]         [1, 3, 256, 256]          435                       [3, 3]                    28,508,160\n",
       "│    └─Identity: 2-11                         [1, 3, 256, 256]          [1, 3, 256, 256]          --                        --                        --\n",
       "│    └─Activation: 2-12                       [1, 3, 256, 256]          [1, 3, 256, 256]          --                        --                        --\n",
       "│    │    └─Identity: 3-28                    [1, 3, 256, 256]          [1, 3, 256, 256]          --                        --                        --\n",
       "==========================================================================================================================================================================\n",
       "Total params: 26,078,899\n",
       "Trainable params: 26,078,899\n",
       "Non-trainable params: 0\n",
       "Total mult-adds (G): 18.40\n",
       "==========================================================================================================================================================================\n",
       "Input size (MB): 0.79\n",
       "Forward/backward pass size (MB): 266.34\n",
       "Params size (MB): 104.32\n",
       "Estimated Total Size (MB): 371.44\n",
       "=========================================================================================================================================================================="
      ]
     },
     "execution_count": 6,
     "metadata": {},
     "output_type": "execute_result"
    }
   ],
   "execution_count": 6
  },
  {
   "metadata": {
    "ExecuteTime": {
     "end_time": "2024-11-22T15:12:42.111606Z",
     "start_time": "2024-11-22T15:12:41.970572Z"
    }
   },
   "cell_type": "code",
   "source": [
    "num_classes = 3\n",
    "learning_rate = 1e-04\n",
    "batch_size = 2\n",
    "epochs = 10\n",
    "image = \"data/train/train/\"\n",
    "masks =  \"data/train_gt/train_gt/\"\n",
    "\n",
    "train_size = 0.9\n",
    "valid_size = 0.1\n",
    "torch.manual_seed(1)\n",
    "\n",
    "optimizer = optim.Adam(model.parameters(), lr=learning_rate)\n",
    "criterion = nn.CrossEntropyLoss()"
   ],
   "id": "49368632b075f12b",
   "outputs": [],
   "execution_count": 7
  },
  {
   "metadata": {},
   "cell_type": "code",
   "outputs": [],
   "execution_count": null,
   "source": "",
   "id": "32f7ec8beeeda5b3"
  },
  {
   "metadata": {
    "ExecuteTime": {
     "end_time": "2024-11-22T15:36:52.605971Z",
     "start_time": "2024-11-22T15:36:52.584777Z"
    }
   },
   "cell_type": "code",
   "source": [
    "class UNetDataClass(Dataset):\n",
    "    def __init__(self, images_path, masks_path=None):\n",
    "        super(UNetDataClass, self).__init__()\n",
    "        \n",
    "        images_list = os.listdir(images_path)\n",
    "        images_list = [os.path.join(images_path, image_name) for image_name in images_list]\n",
    "        \n",
    "        self.images_list = images_list\n",
    "        self.masks_path = masks_path\n",
    "        self.masks_list = None\n",
    "        \n",
    "        if masks_path:\n",
    "            masks_list = os.listdir(masks_path)\n",
    "            masks_list = [os.path.join(masks_path, mask_name) for mask_name in masks_list]\n",
    "            self.masks_list = masks_list\n",
    "        \n",
    "        self.transform = Compose([Resize((256, 256), interpolation=InterpolationMode.BILINEAR),\n",
    "                     PILToTensor()])\n",
    "\n",
    "        \n",
    "    def __getitem__(self, index):\n",
    "        img_path = self.images_list[index]\n",
    "        \n",
    "        # Open image\n",
    "        data = Image.open(img_path).convert(\"RGB\")\n",
    "        data = self.transform(data) / 255\n",
    "        \n",
    "        if self.masks_list:  # If masks are available\n",
    "            mask_path = self.masks_list[index]\n",
    "            label = Image.open(mask_path).convert(\"L\")\n",
    "            label = self.transform(label) / 255\n",
    "            label = torch.where(label > 0.65, 1.0, 0.0)\n",
    "            label = torch.argmax(label, 0).type(torch.int64)\n",
    "            \n",
    "            return data, label\n",
    "        \n",
    "        return data, img_path  # For test set, return data and path\n",
    "    \n",
    "    def __len__(self):\n",
    "        return len(self.images_list)"
   ],
   "id": "f2de20ddbc85860b",
   "outputs": [],
   "execution_count": 15
  },
  {
   "metadata": {
    "ExecuteTime": {
     "end_time": "2024-11-22T15:37:25.804711Z",
     "start_time": "2024-11-22T15:37:25.744883Z"
    }
   },
   "cell_type": "code",
   "source": [
    "test = 'data/test/test'\n",
    "unet_dataset = UNetDataClass(image, masks)\n",
    "unet_test = UNetDataClass(test, None)\n",
    "test_dataloader = DataLoader(unet_test, batch_size=batch_size, shuffle=True)"
   ],
   "id": "ba6f5d9acf8c5c71",
   "outputs": [],
   "execution_count": 16
  },
  {
   "metadata": {
    "ExecuteTime": {
     "end_time": "2024-11-22T15:12:42.237015Z",
     "start_time": "2024-11-22T15:12:42.205781Z"
    }
   },
   "cell_type": "code",
   "source": [
    "train_set, valid_set = random_split(unet_dataset, \n",
    "                                    [int(train_size * len(unet_dataset)) , \n",
    "                                     int(valid_size * len(unet_dataset))])\n",
    "train_dataloader = DataLoader(train_set, batch_size=batch_size, shuffle=True)\n",
    "valid_dataloader = DataLoader(valid_set, batch_size=batch_size, shuffle=True)"
   ],
   "id": "dcd861ee54fa29fd",
   "outputs": [],
   "execution_count": 10
  },
  {
   "metadata": {
    "ExecuteTime": {
     "end_time": "2024-11-22T15:12:42.268667Z",
     "start_time": "2024-11-22T15:12:42.237015Z"
    }
   },
   "cell_type": "code",
   "source": [
    "def train_and_validate(model, train_loader, val_loader, optimizer, criterion, epochs=5):\n",
    "    train_losses = []\n",
    "    val_losses = []\n",
    "    train_accuracies = []\n",
    "    val_accuracies = []\n",
    "\n",
    "    for epoch in range(epochs):\n",
    "        # Train\n",
    "        model.train()\n",
    "        running_loss = 0.0\n",
    "        correct = 0\n",
    "        total = 0\n",
    "        for images, labels in train_loader:\n",
    "            images, labels = images.to(device), labels.to(device)  \n",
    "            optimizer.zero_grad() \n",
    "            outputs = model(images) \n",
    "            loss = criterion(outputs, labels)  \n",
    "            loss.backward() \n",
    "            optimizer.step()  \n",
    "            running_loss += loss.item()\n",
    "\n",
    "\n",
    "\n",
    "        train_loss = running_loss / len(train_loader)\n",
    "        \n",
    "\n",
    "\n",
    "        # Validation \n",
    "        model.eval()\n",
    "        val_running_loss = 0.0\n",
    "        val_correct = 0\n",
    "        val_total = 0\n",
    "        with torch.no_grad():\n",
    "            for images, labels in val_loader:\n",
    "                images, labels = images.to(device), labels.to(device)\n",
    "                outputs = model(images)\n",
    "                loss = criterion(outputs, labels)\n",
    "                val_running_loss += loss.item()\n",
    "\n",
    "\n",
    "\n",
    "        val_loss = val_running_loss / len(val_loader)\n",
    "     \n",
    " \n",
    "\n",
    "        print(f\"Epoch [{epoch + 1}/{epochs}]\")\n",
    "        print(f\"    Train Loss: {train_loss:.4f}\")\n",
    "        print(f\"    Val Loss: {val_loss:.4f}\")\n",
    "\n",
    "    return "
   ],
   "id": "bc909bf2f5fec469",
   "outputs": [],
   "execution_count": 11
  },
  {
   "metadata": {
    "ExecuteTime": {
     "end_time": "2024-11-22T15:28:01.700559Z",
     "start_time": "2024-11-22T15:12:42.268667Z"
    }
   },
   "cell_type": "code",
   "source": "train_and_validate(model,train_dataloader,valid_dataloader, optimizer,criterion)",
   "id": "4d5b6a9d17e4977b",
   "outputs": [
    {
     "name": "stdout",
     "output_type": "stream",
     "text": [
      "Epoch [1/5]\n",
      "    Train Loss: 0.4220\n",
      "    Val Loss: 0.1277\n",
      "Epoch [2/5]\n",
      "    Train Loss: 0.0961\n",
      "    Val Loss: 0.0904\n",
      "Epoch [3/5]\n",
      "    Train Loss: 0.0656\n",
      "    Val Loss: 0.0653\n",
      "Epoch [4/5]\n",
      "    Train Loss: 0.0493\n",
      "    Val Loss: 0.0547\n",
      "Epoch [5/5]\n",
      "    Train Loss: 0.0373\n",
      "    Val Loss: 0.0495\n"
     ]
    }
   ],
   "execution_count": 12
  },
  {
   "metadata": {
    "ExecuteTime": {
     "end_time": "2024-11-22T17:18:53.427929Z",
     "start_time": "2024-11-22T17:18:53.381053Z"
    }
   },
   "cell_type": "code",
   "source": [
    "def rle_encoding(mask):\n",
    "    \"\"\"\n",
    "    Convert a binary mask into RLE format.\n",
    "    Args:\n",
    "        mask (np.ndarray): 2D numpy array of 0s and 1s representing the binary mask.\n",
    "    Returns:\n",
    "        str: Run-Length Encoding as a string.\n",
    "    \"\"\"\n",
    "    pixels = mask.flatten(order='F')  # Flatten in column-major order\n",
    "    pixels = np.concatenate([[0], pixels, [0]])  # Add boundary pixels\n",
    "    runs = np.where(pixels[1:] != pixels[:-1])[0] + 1\n",
    "    runs[1::2] -= runs[::2]\n",
    "    return ' '.join(map(str, runs))\n",
    "\n",
    "def evaluate(model, test_loader, output_csv=\"submission.csv\"):\n",
    "    \"\"\"\n",
    "    Evaluate the model on test_loader and create a submission file with RLE encoding.\n",
    "    \n",
    "    Args:\n",
    "        model: Trained PyTorch model.\n",
    "        test_loader: DataLoader for the test set.\n",
    "        output_csv: Path to save the submission CSV.\n",
    "    \"\"\"\n",
    "    model.eval()  # Chuyển mô hình sang chế độ đánh giá\n",
    "    submission_data = []\n",
    "\n",
    "    with torch.no_grad():\n",
    "        for images, image_paths in test_loader:\n",
    "            images = images.to(device)  # Đưa ảnh về thiết bị\n",
    "            outputs = model(images)  # Dự đoán\n",
    "\n",
    "            # Duyệt qua từng ảnh trong batch\n",
    "            for i, image_path in enumerate(image_paths):\n",
    "                predictions = torch.argmax(outputs[i], dim=0)  # Dự đoán cho ảnh i\n",
    "                predicted_image = predictions.cpu().numpy()  # Chuyển dự đoán thành NumPy array\n",
    "\n",
    "                # Mã hóa RLE cho mỗi lớp (0, 1, 2)\n",
    "                rle_mask = rle_encoding(predicted_image)\n",
    "\n",
    "                # Lấy tên file không có phần mở rộng\n",
    "                file_name = os.path.splitext(os.path.basename(image_path))[0]\n",
    "\n",
    "                # Thêm kết quả vào danh sách\n",
    "                submission_data.append({\n",
    "                    \"Id\": file_name,\n",
    "                    \"Expected\": rle_mask  # Lưu kết quả mã hóa RLE\n",
    "                })\n",
    "\n",
    "    # Tạo DataFrame từ danh sách kết quả\n",
    "    submission_df = pd.DataFrame(submission_data)\n",
    "\n",
    "    # Lưu thành file CSV\n",
    "    submission_df.to_csv(output_csv, index=False)\n",
    "    print(f\"Submission file saved as {output_csv}\")"
   ],
   "id": "b40ea76f6effd3dd",
   "outputs": [],
   "execution_count": 79
  },
  {
   "metadata": {
    "ExecuteTime": {
     "end_time": "2024-11-22T17:18:55.539145Z",
     "start_time": "2024-11-22T17:18:54.463049Z"
    }
   },
   "cell_type": "code",
   "source": "evaluate(model, test_dataloader)",
   "id": "9e5f92cd62a63647",
   "outputs": [
    {
     "ename": "ValueError",
     "evalue": "operands could not be broadcast together with shapes (28,) (29,) (28,) ",
     "output_type": "error",
     "traceback": [
      "\u001B[1;31m---------------------------------------------------------------------------\u001B[0m",
      "\u001B[1;31mValueError\u001B[0m                                Traceback (most recent call last)",
      "Cell \u001B[1;32mIn[80], line 1\u001B[0m\n\u001B[1;32m----> 1\u001B[0m \u001B[43mevaluate\u001B[49m\u001B[43m(\u001B[49m\u001B[43mmodel\u001B[49m\u001B[43m,\u001B[49m\u001B[43m \u001B[49m\u001B[43mtest_dataloader\u001B[49m\u001B[43m)\u001B[49m\n",
      "Cell \u001B[1;32mIn[79], line 38\u001B[0m, in \u001B[0;36mevaluate\u001B[1;34m(model, test_loader, output_csv)\u001B[0m\n\u001B[0;32m     35\u001B[0m predicted_image \u001B[38;5;241m=\u001B[39m predictions\u001B[38;5;241m.\u001B[39mcpu()\u001B[38;5;241m.\u001B[39mnumpy()  \u001B[38;5;66;03m# Chuyển dự đoán thành NumPy array\u001B[39;00m\n\u001B[0;32m     37\u001B[0m \u001B[38;5;66;03m# Mã hóa RLE cho mỗi lớp (0, 1, 2)\u001B[39;00m\n\u001B[1;32m---> 38\u001B[0m rle_mask \u001B[38;5;241m=\u001B[39m \u001B[43mrle_encoding\u001B[49m\u001B[43m(\u001B[49m\u001B[43mpredicted_image\u001B[49m\u001B[43m)\u001B[49m\n\u001B[0;32m     40\u001B[0m \u001B[38;5;66;03m# Lấy tên file không có phần mở rộng\u001B[39;00m\n\u001B[0;32m     41\u001B[0m file_name \u001B[38;5;241m=\u001B[39m os\u001B[38;5;241m.\u001B[39mpath\u001B[38;5;241m.\u001B[39msplitext(os\u001B[38;5;241m.\u001B[39mpath\u001B[38;5;241m.\u001B[39mbasename(image_path))[\u001B[38;5;241m0\u001B[39m]\n",
      "Cell \u001B[1;32mIn[79], line 12\u001B[0m, in \u001B[0;36mrle_encoding\u001B[1;34m(mask)\u001B[0m\n\u001B[0;32m     10\u001B[0m pixels \u001B[38;5;241m=\u001B[39m np\u001B[38;5;241m.\u001B[39mconcatenate([[\u001B[38;5;241m0\u001B[39m], pixels, [\u001B[38;5;241m0\u001B[39m]])  \u001B[38;5;66;03m# Add boundary pixels\u001B[39;00m\n\u001B[0;32m     11\u001B[0m runs \u001B[38;5;241m=\u001B[39m np\u001B[38;5;241m.\u001B[39mwhere(pixels[\u001B[38;5;241m1\u001B[39m:] \u001B[38;5;241m!=\u001B[39m pixels[:\u001B[38;5;241m-\u001B[39m\u001B[38;5;241m1\u001B[39m])[\u001B[38;5;241m0\u001B[39m] \u001B[38;5;241m+\u001B[39m \u001B[38;5;241m1\u001B[39m\n\u001B[1;32m---> 12\u001B[0m runs[\u001B[38;5;241m1\u001B[39m::\u001B[38;5;241m2\u001B[39m] \u001B[38;5;241m-\u001B[39m\u001B[38;5;241m=\u001B[39m runs[::\u001B[38;5;241m2\u001B[39m]\n\u001B[0;32m     13\u001B[0m \u001B[38;5;28;01mreturn\u001B[39;00m \u001B[38;5;124m'\u001B[39m\u001B[38;5;124m \u001B[39m\u001B[38;5;124m'\u001B[39m\u001B[38;5;241m.\u001B[39mjoin(\u001B[38;5;28mmap\u001B[39m(\u001B[38;5;28mstr\u001B[39m, runs))\n",
      "\u001B[1;31mValueError\u001B[0m: operands could not be broadcast together with shapes (28,) (29,) (28,) "
     ]
    }
   ],
   "execution_count": 80
  },
  {
   "metadata": {
    "ExecuteTime": {
     "end_time": "2024-11-22T16:32:11.245941Z",
     "start_time": "2024-11-22T16:32:10.163451Z"
    }
   },
   "cell_type": "code",
   "source": [
    "# Lấy một batch từ train_dataloader\n",
    "for i, (batch_images, batch_labels) in enumerate(train_dataloader):\n",
    "    # Kiểm tra nếu batch có ít nhất một nhãn bằng 0\n",
    "    if (batch_labels == 1).any():\n",
    "        print(f\"Batch index: {i}\")\n",
    "        break\n",
    "\n",
    "# Đưa ảnh về thiết bị (CPU/GPU)\n",
    "images = batch_images.to(device)\n",
    "labels = batch_labels.to(device)  # Nếu cần nhãn\n",
    "\n",
    "# Chạy ảnh qua mô hình\n",
    "model.eval()  # Chuyển sang chế độ đánh giá\n",
    "with torch.no_grad():  # Không cần tính toán gradient\n",
    "    outputs = model(images)  # Dự đoán\n",
    "\n",
    "# Lấy nhãn của ảnh đầu tiên trong batch\n",
    "label_image = labels[1]  # Nhãn của ảnh thứ hai trong batch (H, W)\n",
    "\n",
    "# Đếm số lượng pixel với giá trị 1 và 2\n",
    "num_ones = torch.sum(label_image == 1).item()\n",
    "num_twos = torch.sum(label_image == 2).item()\n",
    "print(f\"Number of pixels with value 1: {num_ones}\")\n",
    "print(f\"Number of pixels with value 2: {num_twos}\")\n",
    "\n",
    "# Kiểm tra phân phối các giá trị trong nhãn\n",
    "values, counts = torch.unique(label_image, return_counts=True)\n",
    "print(\"Distribution of pixel values:\")\n",
    "for value, count in zip(values, counts):\n",
    "    print(f\"Value: {value.item()}, Count: {count.item()}\")\n",
    "\n",
    "# Chuyển nhãn sang NumPy để hiển thị bằng matplotlib\n",
    "label_image_np = label_image.cpu().numpy()\n",
    "\n",
    "# Hiển thị nhãn\n",
    "import matplotlib.pyplot as plt\n",
    "\n",
    "plt.figure(figsize=(6, 6))\n",
    "plt.imshow(label_image_np, cmap=\"viridis\")  # Sử dụng cmap phù hợp\n",
    "plt.title(\"Label Image\")\n",
    "plt.axis(\"off\")\n",
    "plt.show()\n"
   ],
   "id": "8aa0e5d00cdd1547",
   "outputs": [
    {
     "name": "stdout",
     "output_type": "stream",
     "text": [
      "Batch index: 2\n",
      "Number of pixels with value 1: 0\n",
      "Number of pixels with value 2: 64151\n",
      "Distribution of pixel values:\n",
      "Value: 0, Count: 1385\n",
      "Value: 2, Count: 64151\n"
     ]
    },
    {
     "data": {
      "text/plain": [
       "<Figure size 600x600 with 1 Axes>"
      ],
      "image/png": "[encoded data removed]"
     },
     "metadata": {},
     "output_type": "display_data"
    }
   ],
   "execution_count": 66
  },
  {
   "metadata": {
    "ExecuteTime": {
     "end_time": "2024-11-22T15:44:07.665526Z",
     "start_time": "2024-11-22T15:44:07.634274Z"
    }
   },
   "cell_type": "code",
   "source": "",
   "id": "466b6fe9aebda163",
   "outputs": [],
   "execution_count": 21
  },
  {
   "metadata": {
    "ExecuteTime": {
     "end_time": "2024-11-22T17:00:48.691476Z",
     "start_time": "2024-11-22T17:00:43.971523Z"
    }
   },
   "cell_type": "code",
   "source": [
    "# Chuyển mô hình sang chế độ đánh giá\n",
    "image, path = next(iter(test_dataloader))\n",
    "images = image.to(device)\n",
    "model.eval()\n",
    "print(path)\n",
    "with torch.no_grad():\n",
    "    outputs = model(images)  # Chạy mô hình trên batch\n",
    "    predictions = torch.argmax(outputs, dim=1)  # Lấy nhãn có xác suất cao nhất\n",
    "\n",
    "# Chọn nhãn dự đoán của ảnh đầu tiên trong batch\n",
    "predicted_image = predictions[0]  # (H, W)\n",
    "\n",
    "# Kiểm tra phân phối các giá trị trong nhãn dự đoán\n",
    "values, counts = torch.unique(predicted_image, return_counts=True)\n",
    "print(\"Distribution of predicted pixel values:\")\n",
    "for value, count in zip(values, counts):\n",
    "    print(f\"Value: {value.item()}, Count: {count.item()}\")\n",
    "\n",
    "# Hiển thị dự đoán\n",
    "predicted_image_np = predicted_image.cpu().numpy()  # Chuyển sang NumPy để hiển thị\n",
    "\n",
    "import matplotlib.pyplot as plt\n",
    "plt.figure(figsize=(6, 6))\n",
    "plt.imshow(predicted_image_np, cmap=\"viridis\")  # Dùng cmap để phân biệt các lớp\n",
    "plt.title(\"Predicted Image\")\n",
    "plt.axis(\"off\")\n",
    "plt.show()\n"
   ],
   "id": "a5ceaa7767ebb1a4",
   "outputs": [
    {
     "name": "stdout",
     "output_type": "stream",
     "text": [
      "('data/test/test\\\\aafac813fe3ccba3e032dd2948a80c64.jpeg', 'data/test/test\\\\8395e56a6d9ba9d45c3dbc695325ded4.jpeg')\n",
      "Distribution of predicted pixel values:\n",
      "Value: 0, Count: 583\n",
      "Value: 1, Count: 44\n",
      "Value: 2, Count: 64909\n"
     ]
    },
    {
     "data": {
      "text/plain": [
       "<Figure size 600x600 with 1 Axes>"
      ],
      "image/png": "[encoded data removed]"
     },
     "metadata": {},
     "output_type": "display_data"
    }
   ],
   "execution_count": 69
  },
  {
   "metadata": {
    "ExecuteTime": {
     "end_time": "2024-11-22T17:02:08.884746Z",
     "start_time": "2024-11-22T17:02:08.869108Z"
    }
   },
   "cell_type": "code",
   "source": [
    "import os\n",
    "\n",
    "path = 'data/test/test\\\\aafac813fe3ccba3e032dd2948a80c64.jpeg'\n",
    "\n",
    "# Lấy tên file không bao gồm phần mở rộng\n",
    "file_name = os.path.splitext(os.path.basename(path))[0]\n",
    "\n",
    "print(file_name)  # Kết quả: aafac813fe3ccba3e032dd2948a80c64\n"
   ],
   "id": "1f99f49471780a9e",
   "outputs": [
    {
     "name": "stdout",
     "output_type": "stream",
     "text": [
      "aafac813fe3ccba3e032dd2948a80c64\n"
     ]
    }
   ],
   "execution_count": 70
  },
  {
   "metadata": {},
   "cell_type": "code",
   "outputs": [],
   "execution_count": null,
   "source": "",
   "id": "18b5a4e641f00245"
  }
 ],
 "metadata": {
  "kernelspec": {
   "display_name": "Python 3",
   "language": "python",
   "name": "python3"
  },
  "language_info": {
   "codemirror_mode": {
    "name": "ipython",
    "version": 2
   },
   "file_extension": ".py",
   "mimetype": "text/x-python",
   "name": "python",
   "nbconvert_exporter": "python",
   "pygments_lexer": "ipython2",
   "version": "2.7.6"
  }
 },
 "nbformat": 4,
 "nbformat_minor": 5
}
